{
 "cells": [
  {
   "cell_type": "markdown",
   "metadata": {
    "slideshow": {
     "slide_type": "slide"
    }
   },
   "source": [
    "# scikit-learn\n",
    "\n",
    "unbelievably cool\n",
    "\n",
    "but first\n",
    "let's take a glance at ipython notebook"
   ]
  },
  {
   "cell_type": "markdown",
   "metadata": {
    "slideshow": {
     "slide_type": "slide"
    }
   },
   "source": [
    "# ipython notebook\n",
    "\n",
    "installation\n",
    "```\n",
    "$ pip install ipython[notebook] matplotlib\n",
    "```\n",
    "\n",
    "start it up\n",
    "\n",
    "```\n",
    "$ ipython notebook\n",
    "```"
   ]
  },
  {
   "cell_type": "markdown",
   "metadata": {
    "slideshow": {
     "slide_type": "slide"
    }
   },
   "source": [
    "## live demo now\n",
    "\n",
    "just basic editing"
   ]
  },
  {
   "cell_type": "markdown",
   "metadata": {
    "slideshow": {
     "slide_type": "slide"
    }
   },
   "source": [
    "## don't forget about slideshows\n",
    "\n",
    "live demo of marking it up for slide show\n",
    "\n",
    "convert and open it in a browser\n",
    "\n",
    "```\n",
    "$ ipython nbconvert slideshow.ipynb --to slides --post serve\n",
    "```"
   ]
  },
  {
   "cell_type": "markdown",
   "metadata": {
    "slideshow": {
     "slide_type": "slide"
    }
   },
   "source": [
    "## nbviewer and github\n",
    "\n",
    "both here in this url\n",
    "\n",
    "\n",
    "http://nbviewer.ipython.org/github/pjpmarques/Julia-Modeling-the-World/blob/master/Three-Body%20Problem.ipynb"
   ]
  },
  {
   "cell_type": "markdown",
   "metadata": {
    "slideshow": {
     "slide_type": "slide"
    }
   },
   "source": [
    "# machine learning\n",
    "\n",
    "          \n",
    "          "
   ]
  },
  {
   "cell_type": "code",
   "execution_count": null,
   "metadata": {
    "collapsed": true
   },
   "outputs": [],
   "source": []
  },
  {
   "cell_type": "markdown",
   "metadata": {
    "slideshow": {
     "slide_type": "slide"
    }
   },
   "source": [
    "## model overfitting"
   ]
  },
  {
   "cell_type": "markdown",
   "metadata": {
    "slideshow": {
     "slide_type": "slide"
    }
   },
   "source": [
    "## polynomial overfitting\n",
    "\n",
    "![overfitting](http://i.stack.imgur.com/t0zit.png)"
   ]
  },
  {
   "cell_type": "markdown",
   "metadata": {
    "slideshow": {
     "slide_type": "slide"
    }
   },
   "source": [
    "## clustering overfitting\n",
    "\n",
    "\n",
    "![overfitting](https://upload.wikimedia.org/wikipedia/commons/thumb/1/19/Overfitting.svg/480px-Overfitting.svg.png)"
   ]
  },
  {
   "cell_type": "markdown",
   "metadata": {
    "slideshow": {
     "slide_type": "slide"
    }
   },
   "source": [
    "## bias vs variance\n",
    "\n",
    "![bias vs variance](http://scott.fortmann-roe.com/docs/docs/BiasVariance/biasvariance.png)"
   ]
  },
  {
   "cell_type": "markdown",
   "metadata": {
    "slideshow": {
     "slide_type": "slide"
    }
   },
   "source": [
    "## let's play with iris dataset\n",
    "\n",
    "![iris illustration](http://nbviewer.ipython.org/github/justmarkham/scikit-learn-videos/blob/master/images/03_iris.png)"
   ]
  },
  {
   "cell_type": "code",
   "execution_count": 29,
   "metadata": {
    "collapsed": false,
    "scrolled": true,
    "slideshow": {
     "slide_type": "slide"
    }
   },
   "outputs": [
    {
     "name": "stdout",
     "output_type": "stream",
     "text": [
      "['sepal length (cm)', 'sepal width (cm)', 'petal length (cm)', 'petal width (cm)']\n",
      "[[ 5.1  3.5  1.4  0.2]\n",
      " [ 4.9  3.   1.4  0.2]\n",
      " [ 4.7  3.2  1.3  0.2]\n",
      " [ 4.6  3.1  1.5  0.2]\n",
      " [ 5.   3.6  1.4  0.2]]\n",
      "[[ 5.   2.   3.5  1. ]\n",
      " [ 5.9  3.   4.2  1.5]\n",
      " [ 6.   2.2  4.   1. ]\n",
      " [ 6.1  2.9  4.7  1.4]\n",
      " [ 5.6  2.9  3.6  1.3]]\n",
      "[[ 6.3  3.3  6.   2.5]\n",
      " [ 5.8  2.7  5.1  1.9]\n",
      " [ 7.1  3.   5.9  2.1]\n",
      " [ 6.3  2.9  5.6  1.8]\n",
      " [ 6.5  3.   5.8  2.2]]\n",
      "[0 0 0 0 0 0 0 0 0 0 0 0 0 0 0 0 0 0 0 0 0 0 0 0 0 0 0 0 0 0 0 0 0 0 0 0 0\n",
      " 0 0 0 0 0 0 0 0 0 0 0 0 0 1 1 1 1 1 1 1 1 1 1 1 1 1 1 1 1 1 1 1 1 1 1 1 1\n",
      " 1 1 1 1 1 1 1 1 1 1 1 1 1 1 1 1 1 1 1 1 1 1 1 1 1 1 2 2 2 2 2 2 2 2 2 2 2\n",
      " 2 2 2 2 2 2 2 2 2 2 2 2 2 2 2 2 2 2 2 2 2 2 2 2 2 2 2 2 2 2 2 2 2 2 2 2 2\n",
      " 2 2]\n",
      "['setosa' 'versicolor' 'virginica']\n"
     ]
    }
   ],
   "source": [
    "print iris.feature_names\n",
    "print iris.data[0:5]\n",
    "print iris.data[60:65]\n",
    "print iris.data[100:105]\n",
    "print iris.target\n",
    "print iris.target_names"
   ]
  },
  {
   "cell_type": "code",
   "execution_count": 106,
   "metadata": {
    "collapsed": false,
    "scrolled": false,
    "slideshow": {
     "slide_type": "slide"
    }
   },
   "outputs": [
    {
     "name": "stdout",
     "output_type": "stream",
     "text": [
      "[2 1]\n",
      "[1 1]\n",
      "[2 0]\n",
      "[1 1]\n"
     ]
    }
   ],
   "source": [
    "from sklearn.datasets import load_iris\n",
    "iris = load_iris()\n",
    "\n",
    "# print iris.data.shape\n",
    "# print iris.target.shape\n",
    "\n",
    "from sklearn.neighbors import KNeighborsClassifier\n",
    "knn = KNeighborsClassifier(n_neighbors=1)\n",
    "knn.fit(iris.data, iris.target)\n",
    "\n",
    "prrr = [[3, 5, 4, 2], [5, 4, 3, 2]]\n",
    "print knn.predict(prrr)\n",
    "\n",
    "knn5 = KNeighborsClassifier(n_neighbors=5)\n",
    "knn5.fit(iris.data, iris.target)\n",
    "print knn5.predict(prrr)\n",
    "\n",
    "from sklearn.linear_model import LogisticRegression\n",
    "logreg = LogisticRegression()\n",
    "logreg.fit(iris.data, iris.target)\n",
    "print logreg.predict(prrr)\n",
    "\n",
    "from sklearn.tree import DecisionTreeClassifier\n",
    "dtc = DecisionTreeClassifier()\n",
    "dtc.fit(iris.data, iris.target)\n",
    "print dtc.predict(prrr)"
   ]
  },
  {
   "cell_type": "code",
   "execution_count": 107,
   "metadata": {
    "collapsed": false,
    "slideshow": {
     "slide_type": "slide"
    }
   },
   "outputs": [
    {
     "name": "stdout",
     "output_type": "stream",
     "text": [
      "[[ 0.11183585  0.00264262  0.88552152]\n",
      " [ 0.87855906  0.03542857  0.08601237]]\n",
      "[[ 0.  1.  0.]\n",
      " [ 0.  1.  0.]]\n"
     ]
    }
   ],
   "source": [
    "print logreg.predict_proba(prrr)\n",
    "print dtc.predict_proba(prrr)"
   ]
  },
  {
   "cell_type": "code",
   "execution_count": 42,
   "metadata": {
    "collapsed": false,
    "slideshow": {
     "slide_type": "slide"
    }
   },
   "outputs": [
    {
     "name": "stdout",
     "output_type": "stream",
     "text": [
      "0.96\n",
      "1.0\n"
     ]
    }
   ],
   "source": [
    "from sklearn import metrics\n",
    "print metrics.accuracy_score(iris.target, logreg.predict(iris.data))\n",
    "print metrics.accuracy_score(iris.target, knn.predict(iris.data))"
   ]
  },
  {
   "cell_type": "markdown",
   "metadata": {
    "slideshow": {
     "slide_type": "slide"
    }
   },
   "source": [
    "## remember overfitting?\n",
    "\n",
    "![overfitting](https://upload.wikimedia.org/wikipedia/commons/thumb/1/19/Overfitting.svg/480px-Overfitting.svg.png)"
   ]
  },
  {
   "cell_type": "markdown",
   "metadata": {
    "slideshow": {
     "slide_type": "slide"
    }
   },
   "source": [
    "## split data"
   ]
  },
  {
   "cell_type": "code",
   "execution_count": 59,
   "metadata": {
    "collapsed": false
   },
   "outputs": [
    {
     "name": "stdout",
     "output_type": "stream",
     "text": [
      "(90, 4)\n",
      "(60, 4)\n",
      "(90,)\n",
      "(60,)\n"
     ]
    }
   ],
   "source": [
    "from sklearn.cross_validation import train_test_split\n",
    "X_train, X_test, \\\n",
    "y_train, y_test = \\\n",
    "    train_test_split(iris.data, iris.target, test_size=0.4, random_state=0)\n",
    "\n",
    "print X_train.shape\n",
    "print X_test.shape\n",
    "print y_train.shape\n",
    "print y_test.shape\n",
    "\n"
   ]
  },
  {
   "cell_type": "code",
   "execution_count": 56,
   "metadata": {
    "collapsed": false,
    "slideshow": {
     "slide_type": "slide"
    }
   },
   "outputs": [
    {
     "data": {
      "text/plain": [
       "0.91666666666666663"
      ]
     },
     "execution_count": 56,
     "metadata": {},
     "output_type": "execute_result"
    }
   ],
   "source": [
    "logreg = LogisticRegression()\n",
    "logreg.fit(X_train, y_train)\n",
    "y_pred = logreg.predict(X_test)\n",
    "metrics.accuracy_score(y_test, y_pred)"
   ]
  },
  {
   "cell_type": "markdown",
   "metadata": {
    "slideshow": {
     "slide_type": "slide"
    }
   },
   "source": [
    "## pros and cons of simple splitting\n",
    "\n",
    "discussion"
   ]
  },
  {
   "cell_type": "markdown",
   "metadata": {
    "slideshow": {
     "slide_type": "slide"
    }
   },
   "source": [
    "# cross-validation\n",
    "\n",
    "we now tried train_test_split(iris.data, iris.target, test_size=0.4, random_state=0)\n",
    "\n",
    "next step is KFold(len(iris.data), n_folds=5)\n",
    "\n",
    "but not right now"
   ]
  },
  {
   "cell_type": "markdown",
   "metadata": {
    "slideshow": {
     "slide_type": "slide"
    }
   },
   "source": [
    "## example: best K for K neighbors"
   ]
  },
  {
   "cell_type": "code",
   "execution_count": 71,
   "metadata": {
    "collapsed": false
   },
   "outputs": [
    {
     "data": {
      "text/plain": [
       "<matplotlib.text.Text at 0x1104cc090>"
      ]
     },
     "execution_count": 71,
     "metadata": {},
     "output_type": "execute_result"
    },
    {
     "data": {
      "image/png": "[encoded data removed]",
      "text/plain": [
       "<matplotlib.figure.Figure at 0x1103f1e90>"
      ]
     },
     "metadata": {},
     "output_type": "display_data"
    }
   ],
   "source": [
    "# try K=1 through K=25 and record testing accuracy\n",
    "k_range = range(1, 26)\n",
    "scores = []\n",
    "for k in k_range:\n",
    "    knn = KNeighborsClassifier(n_neighbors=k)\n",
    "    knn.fit(X_train, y_train)\n",
    "    y_pred = knn.predict(X_test)\n",
    "    scores.append(metrics.accuracy_score(y_test, y_pred))\n",
    "\n",
    "# import Matplotlib (scientific plotting library)\n",
    "import matplotlib.pyplot as plt\n",
    "\n",
    "# allow plots to appear within the notebook\n",
    "%matplotlib inline\n",
    "\n",
    "# plot the relationship between K and testing accuracy\n",
    "plt.plot(k_range, scores)\n",
    "plt.xlabel('Value of K for KNN')\n",
    "plt.ylabel('Testing Accuracy')"
   ]
  },
  {
   "cell_type": "markdown",
   "metadata": {
    "slideshow": {
     "slide_type": "slide"
    }
   },
   "source": [
    "## now let's draw the decision tree\n",
    "\n",
    "easily done with     \n",
    "tree.export_graphviz(dtc, out_file)\n",
    "\n",
    "and then    \n",
    "$ dot -Tpng tree.dot -o tree.png\n",
    "\n"
   ]
  },
  {
   "cell_type": "code",
   "execution_count": 83,
   "metadata": {
    "collapsed": false,
    "slideshow": {
     "slide_type": "-"
    }
   },
   "outputs": [
    {
     "data": {
      "text/plain": [
       "0"
      ]
     },
     "execution_count": 83,
     "metadata": {},
     "output_type": "execute_result"
    }
   ],
   "source": [
    "from sklearn.externals.six import StringIO\n",
    "from subprocess import call\n",
    "\n",
    "with open(\"iris.dot\", 'w') as f:\n",
    "    f = tree.export_graphviz(dtc, out_file=f)\n",
    "    \n",
    "call([\"dot\", \"-Tpng\", \"iris.dot\", \"-o\", \"iris.png\"])"
   ]
  },
  {
   "cell_type": "markdown",
   "metadata": {
    "slideshow": {
     "slide_type": "slide"
    }
   },
   "source": [
    "![decision tree classifier for iris dataset](iris.png)"
   ]
  },
  {
   "cell_type": "markdown",
   "metadata": {
    "slideshow": {
     "slide_type": "slide"
    }
   },
   "source": [
    "# Bayes' theorem\n",
    "\n",
    "$$\\Pr( \\ A \\ | \\ B \\ ) = \\frac{\\Pr( \\ B \\ | \\ A \\ ) \\Pr(A)}{\\Pr(B)}$$\n",
    "\n",
    "$$\\Pr( \\ S \\ | \\ W_1 \\ldots W_n \\ ) = \\frac{\\Pr( \\ W_1 \\ldots W_n \\ | \\ S \\ ) \\Pr(S)}{\\Pr(W_1 \\ldots W_n)}$$\n",
    "\n",
    "$$\\Pr( \\ W_1 \\ldots W_n \\ | \\ S \\ ) = \\Pr( \\ W_1 \\ | \\ S \\ ) \\ldots \\Pr( \\ W_n \\ | \\ S \\ )$$\n",
    "\n",
    "\n",
    "vocabulary = [a, the, fuck, suck, hello, ...]    \n",
    "[0, 0, 1, 1, 0, ...]\n",
    "\n",
    "[5, 3, 4, 5, ...]\n"
   ]
  },
  {
   "cell_type": "markdown",
   "metadata": {
    "slideshow": {
     "slide_type": "slide"
    }
   },
   "source": [
    "## Thomas Bayes\n",
    "\n",
    "![Thomas Bayes](https://upload.wikimedia.org/wikipedia/commons/d/d4/Thomas_Bayes.gif)"
   ]
  },
  {
   "cell_type": "markdown",
   "metadata": {
    "slideshow": {
     "slide_type": "slide"
    }
   },
   "source": [
    "## naive bayes and multinomial bayes\n",
    "\n",
    "same theorem, different rules, estimations, and results"
   ]
  },
  {
   "cell_type": "markdown",
   "metadata": {
    "slideshow": {
     "slide_type": "slide"
    }
   },
   "source": [
    "## multinomial bayes estimates quality of cars\n",
    "\n"
   ]
  },
  {
   "cell_type": "code",
   "execution_count": 100,
   "metadata": {
    "collapsed": false,
    "slideshow": {
     "slide_type": "slide"
    }
   },
   "outputs": [
    {
     "name": "stdout",
     "output_type": "stream",
     "text": [
      "[['vhigh' 'vhigh' '3' 'more' 'med' 'high' 'unacc']\n",
      " ['vhigh' 'vhigh' '3' 'more' 'big' 'low' 'unacc']\n",
      " ['vhigh' 'vhigh' '3' 'more' 'big' 'med' 'unacc']\n",
      " ['vhigh' 'vhigh' '3' 'more' 'big' 'high' 'unacc']\n",
      " ['vhigh' 'vhigh' '4' '2' 'small' 'low' 'unacc']\n",
      " ['vhigh' 'vhigh' '4' '2' 'small' 'med' 'unacc']\n",
      " ['vhigh' 'vhigh' '4' '2' 'small' 'high' 'unacc']\n",
      " ['vhigh' 'vhigh' '4' '2' 'med' 'low' 'unacc']\n",
      " ['vhigh' 'vhigh' '4' '2' 'med' 'med' 'unacc']\n",
      " ['vhigh' 'vhigh' '4' '2' 'med' 'high' 'unacc']]\n"
     ]
    }
   ],
   "source": [
    "# thinkModelCode_carData.py\n",
    "\n",
    "from sklearn.preprocessing import LabelBinarizer\n",
    "from sklearn import naive_bayes\n",
    "import numpy as np\n",
    "import csv\n",
    "import random\n",
    "import urllib\n",
    "\n",
    "# Read in data from UCI Machine Learning Repository URL:\n",
    "url = \"http://archive.ics.uci.edu/ml/machine-learning-databases/car/car.data\"\n",
    "webpage = urllib.urlopen(url)\n",
    "datareader = csv.reader(webpage)\n",
    "ct = 0;\n",
    "for row in datareader:\n",
    " ct = ct+1\n",
    "webpage = urllib.urlopen(url) \n",
    "datareader = csv.reader(webpage)\n",
    "data = np.array(-1*np.ones((ct,7),float),object);\n",
    "k=0;\n",
    "for row in datareader:\n",
    " data[k,:] = np.array(row)\n",
    " k = k+1;\n",
    "    \n",
    "print data[50:60]\n",
    "\n",
    "featnames = np.array(['buyPrice','maintPrice','numDoors','numPersons','lugBoot','safety'],str)\n",
    "\n",
    "keys = [[]]*np.size(data,1)\n",
    "numdata = -1*np.ones_like(data);\n",
    "\n",
    "# convert string objects to integer values for modeling:\n",
    "for k in range(np.size(data,1)):\n",
    " keys[k],garbage,numdata[:,k] = np.unique(data[:,k],True,True)\n",
    "\n",
    "numrows = np.size(numdata,0); # number of instances in car data set\n",
    "numcols = np.size(numdata,1); # number of columns in car data set\n",
    "numdata = np.array(numdata,int)\n",
    "xdata = numdata[:,:-1]; # x-data is all data BUT the last column which are the class labels\n",
    "ydata = numdata[:,-1]; # y-data is set to class labels in the final column, signified by -1"
   ]
  },
  {
   "cell_type": "markdown",
   "metadata": {},
   "source": [
    "$$\\Pr( \\ A \\ | \\ B \\ ) = \\frac{\\Pr( \\ B \\ | \\ A \\ ) \\Pr(A)}{\\Pr(B)}$$\n",
    "\n",
    "$$\\Pr( \\ S \\ | \\ W_1 \\ldots W_n \\ ) = \\frac{\\Pr( \\ W_1 \\ldots W_n \\ | \\ S \\ ) \\Pr(S)}{\\Pr(W_1 \\ldots W_n)}$$\n",
    "\n",
    "$$\\Pr( \\ W_1 \\ldots W_n \\ | \\ S \\ ) = \\Pr( \\ W_1 \\ | \\ S \\ ) \\ldots \\Pr( \\ W_n \\ | \\ S \\ )$$"
   ]
  },
  {
   "cell_type": "markdown",
   "metadata": {
    "slideshow": {
     "slide_type": "slide"
    }
   },
   "source": [
    "## notice the LabelBinarizer here -- preprocessing here"
   ]
  },
  {
   "cell_type": "code",
   "execution_count": 84,
   "metadata": {
    "collapsed": false,
    "slideshow": {
     "slide_type": "-"
    }
   },
   "outputs": [
    {
     "name": "stdout",
     "output_type": "stream",
     "text": [
      "Classification accuracy of MNB =  0.854651162791\n"
     ]
    }
   ],
   "source": [
    "# ------------------ numdata multilabel -> binary conversion for NB-Model ---------------------\n",
    "lbin = LabelBinarizer();\n",
    "for k in range(np.size(xdata,1)): # loop thru number of columns in xdata\n",
    " if k==0:\n",
    "  xdata_ml = lbin.fit_transform(xdata[:,k]);\n",
    " else:\n",
    "  xdata_ml = np.hstack((xdata_ml,lbin.fit_transform(xdata[:,k])))\n",
    "ydata_ml = lbin.fit_transform(ydata)\n",
    "\n",
    "\n",
    "# -------------------------- Data Partitioning and Cross-Validation --------------------------\n",
    "# As suggested by the UCI machine learning repository, do a 2/3 train, 1/3 test split\n",
    "allIDX = np.arange(numrows);\n",
    "random.shuffle(allIDX); # randomly shuffles allIDX order for creating 'holdout' sample\n",
    "holdout_number = numrows/10; # holdout 10% of full sample set to perform validation\n",
    "testIDX = allIDX[0:holdout_number];\n",
    "trainIDX = allIDX[holdout_number:];\n",
    "\n",
    "# create training and test data sets\n",
    "xtest = xdata_ml[testIDX,:];\n",
    "xtrain = xdata_ml[trainIDX,:];\n",
    "ytest = ydata[testIDX];\n",
    "ytrain = ydata[trainIDX];\n",
    "\n",
    "# ------------------------------ Naive_Bayes Model Construction ------------------------------\n",
    "# ------------------------------  MultinomialNB & ComplementNB  ------------------------------\n",
    "mnb = naive_bayes.MultinomialNB();\n",
    "mnb.fit(xtrain,ytrain);\n",
    "print \"Classification accuracy of MNB = \", mnb.score(xtest,ytest)\n"
   ]
  },
  {
   "cell_type": "code",
   "execution_count": 96,
   "metadata": {
    "collapsed": false,
    "slideshow": {
     "slide_type": "slide"
    }
   },
   "outputs": [
    {
     "name": "stdout",
     "output_type": "stream",
     "text": [
      "[[0 1 0 0 1 0 0 0 0 0 1 0 0 1 0 0 0 1 0 1 0]\n",
      " [1 0 0 0 0 0 0 1 0 0 0 1 1 0 0 0 0 1 0 1 0]\n",
      " [0 1 0 0 1 0 0 0 0 0 1 0 1 0 0 1 0 0 1 0 0]\n",
      " [0 1 0 0 0 0 1 0 0 1 0 0 0 0 1 1 0 0 1 0 0]\n",
      " [0 0 0 1 0 1 0 0 0 0 0 1 1 0 0 1 0 0 1 0 0]\n",
      " [0 0 1 0 0 0 1 0 1 0 0 0 0 0 1 0 0 1 0 0 1]\n",
      " [0 1 0 0 0 0 1 0 0 1 0 0 0 1 0 0 1 0 1 0 0]\n",
      " [0 0 1 0 1 0 0 0 1 0 0 0 0 0 1 0 1 0 1 0 0]\n",
      " [0 1 0 0 1 0 0 0 0 1 0 0 1 0 0 0 0 1 1 0 0]\n",
      " [1 0 0 0 0 1 0 0 0 1 0 0 0 0 1 1 0 0 0 0 1]]\n"
     ]
    }
   ],
   "source": [
    "print xtest[50:60]"
   ]
  },
  {
   "cell_type": "code",
   "execution_count": 99,
   "metadata": {
    "collapsed": false,
    "slideshow": {
     "slide_type": "slide"
    }
   },
   "outputs": [
    {
     "name": "stdout",
     "output_type": "stream",
     "text": [
      "[2]\n"
     ]
    }
   ],
   "source": [
    "print mnb.predict([0, 0, 1, 0, 0, 0, 1, 0, 1, 0, 0, 0, 0, 0, 1, 0, 0, 1, 0, 0, 1])"
   ]
  },
  {
   "cell_type": "markdown",
   "metadata": {
    "slideshow": {
     "slide_type": "slide"
    }
   },
   "source": [
    "## my questions\n",
    "\n",
    "- log-loss widely used by Kaggle for cross-validation:\n",
    "https://www.kaggle.com/wiki/GettingStartedWithPythonForDataScience\n",
    "\n",
    "$${\\cal L}(y,\\hat{y}) = - \\sum_{n=1}^N  y_n \\log \\hat{y}_n + (1-y_n) \\log (1 - \\hat{y}_n)$$\n",
    "\n",
    "- logistic regression vs naive bayes: http://www.cs.cmu.edu/~epxing/Class/10701-10s/Lecture/lecture5.pdf#11\n",
    "\n",
    "$$F(x) = \\frac {1}{1+e^{-(\\beta_0 + \\beta_1 x)}}$$"
   ]
  },
  {
   "cell_type": "markdown",
   "metadata": {
    "slideshow": {
     "slide_type": "slide"
    }
   },
   "source": [
    "# sources\n",
    "\n",
    "http://www.dataschool.io/machine-learning-with-scikit-learn/\n",
    "\n",
    "http://thinkmodelcode.blogspot.ru/2013/04/naive-bayes-classification-using-python.html\n",
    "\n",
    "http://blog.datumbox.com/machine-learning-tutorial-the-naive-bayes-text-classifier/"
   ]
  }
 ],
 "metadata": {
  "celltoolbar": "Slideshow",
  "kernelspec": {
   "display_name": "Python 2",
   "language": "python",
   "name": "python2"
  },
  "language_info": {
   "codemirror_mode": {
    "name": "ipython",
    "version": 2
   },
   "file_extension": ".py",
   "mimetype": "text/x-python",
   "name": "python",
   "nbconvert_exporter": "python",
   "pygments_lexer": "ipython2",
   "version": "2.7.10"
  }
 },
 "nbformat": 4,
 "nbformat_minor": 0
}
