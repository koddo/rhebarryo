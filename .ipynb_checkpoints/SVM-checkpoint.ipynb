{
 "cells": [
  {
   "cell_type": "code",
   "execution_count": 1,
   "metadata": {
    "collapsed": false,
    "slideshow": {
     "slide_type": "slide"
    }
   },
   "outputs": [
    {
     "name": "stdout",
     "output_type": "stream",
     "text": [
      "hello, world!\n"
     ]
    }
   ],
   "source": [
    "print 'hello, world!'"
   ]
  },
  {
   "cell_type": "markdown",
   "metadata": {
    "slideshow": {
     "slide_type": "slide"
    }
   },
   "source": [
    "# bgfbgfbgf\n",
    "\n",
    "\n",
    "u6jhtnhnjhtnhtnht SUPPORT VECTORS!!!!!!!\n",
    "\n",
    "![FRIDAY](https://coubsecure-a.akamaihd.net/get/bucket:22.31/p/coub/simple/cw_image/5a2da57c689/1ea4b7c8741506a9f4244/cotd_email_1408812460_00017.jpg)"
   ]
  },
  {
   "cell_type": "code",
   "execution_count": null,
   "metadata": {
    "collapsed": false,
    "slideshow": {
     "slide_type": "-"
    }
   },
   "outputs": [],
   "source": []
  },
  {
   "cell_type": "markdown",
   "metadata": {
    "slideshow": {
     "slide_type": "slide"
    }
   },
   "source": [
    "# Trivia\n",
    "Рассмотрим задачу обучения по прецедентам: $\\{X,Y,y^*,X^l\\}$\n",
    "\n",
    "\n",
    "Х - пространство объектов\n",
    "\n",
    "У - множество ответов\n",
    "    \n",
    "$y^*:X \\rightarrow Y$  — целевая зависимость, значения которой известны только на объектах обучающей выборки\n",
    "\n",
    "$X^l = (x_i,y_i)^l_{i=1}$ — обучающая выборка\n",
    "\n",
    "Требуется найти аппроксимирующую зависимость $a: X \\rightarrow Y$, аппроксимирующую $y^*$ на всем пространстве $X$"
   ]
  },
  {
   "cell_type": "markdown",
   "metadata": {
    "slideshow": {
     "slide_type": "slide"
    }
   },
   "source": [
    "#Модель Маккалока-Питтса\n",
    "\n",
    "Будем строить линейный пороговый классификатор:\n",
    "\n",
    "$$a(x)=sign(\\sum\\limits^n_{j=1}\\omega_jx_j - \\omega_0) = sign(\\langle\\omega,x\\rangle-\\omega_0)$$\n",
    "\n",
    "Объекты — n-мерные вещественные векторы, $X \\in \\mathbb{R}^n$, $Y = \\{-1;+1\\}$\n",
    "\n",
    "$x = (x^1,\\dots,x^n)$ — признаковое описание объекта $x$\n",
    "\n",
    "$\\omega = (\\omega^1,\\dots,\\omega^n) \\in \\mathbb{R}^n$ и скалярный порог $\\omega_0 \\in \\mathbb{R}^n$ — параметры алгоритма\n",
    "\n",
    "\n",
    "![Mcculloch-Pitts neuron](http://www.machinelearning.ru/wiki/images/5/52/Pict1.jpg)\n"
   ]
  },
  {
   "cell_type": "code",
   "execution_count": null,
   "metadata": {
    "collapsed": false,
    "slideshow": {
     "slide_type": "-"
    }
   },
   "outputs": [],
   "source": []
  },
  {
   "cell_type": "markdown",
   "metadata": {
    "slideshow": {
     "slide_type": "slide"
    }
   },
   "source": [
    "$$ \\langle\\omega,x\\rangle = \\omega_0$$\n",
    "\n",
    "$$m_i=y_i(\\langle\\omega,x_i\\rangle - \\omega_0)$$\n",
    "\n",
    "Выборка линейно разделима $\\quad \\longleftrightarrow \\quad \\exists \\omega,\\omega_0: Q(\\omega,\\omega_0)=\\sum\\limits^l_{i=1}[m_i<0]$"
   ]
  },
  {
   "cell_type": "code",
   "execution_count": null,
   "metadata": {
    "collapsed": false
   },
   "outputs": [],
   "source": []
  },
  {
   "cell_type": "markdown",
   "metadata": {
    "slideshow": {
     "slide_type": "slide"
    }
   },
   "source": [
    "$$\\forall x \\in X^l$$\n",
    "\n",
    "$\\begin{equation*}\n",
    "\\langle\\omega,x\\rangle - \\omega_0\n",
    "\\begin{cases}\n",
    "   \\geq +1 &\\text{$y_{i} = +1$}\\\\\n",
    "   \\leq -1 &\\text{$y_{i} = -1$}\n",
    " \\end{cases}\n",
    "\\end{equation*}$\n",
    "\n",
    "$$\\langle(x_+-x_-),\\frac{\\omega}{\\Vert\\omega\\Vert}\\rangle = \\frac{(\\omega,x_+)-(\\omega,x_-)}{\\Vert\\omega\\Vert} = \\frac{2}{\\Vert\\omega\\Vert}$$"
   ]
  },
  {
   "cell_type": "markdown",
   "metadata": {
    "slideshow": {
     "slide_type": "slide"
    }
   },
   "source": [
    "![margin example](https://upload.wikimedia.org/wikipedia/commons/thumb/2/2a/Svm_max_sep_hyperplane_with_margin.png/445px-Svm_max_sep_hyperplane_with_margin.png)"
   ]
  },
  {
   "cell_type": "markdown",
   "metadata": {
    "slideshow": {
     "slide_type": "slide"
    }
   },
   "source": [
    "$\\begin{equation*}\n",
    "\\begin{cases}\n",
    "    \\langle\\omega,\\omega\\rangle \\rightarrow \\min \\\\\n",
    "   y_i(\\langle\\omega,x) - \\omega_0) \\geq +1 &\\text{$i = 1,\\dots,n$}\\\\\n",
    " \\end{cases}\n",
    "\\end{equation*}$"
   ]
  },
  {
   "cell_type": "markdown",
   "metadata": {
    "slideshow": {
     "slide_type": "slide"
    }
   },
   "source": [
    "$\\begin{equation*}\n",
    "\\begin{cases}\n",
    "   \\mathcal{L}(\\omega,\\omega_0;\\lambda) = \\frac{1}{2}\\langle\\omega,\\omega\\rangle - \\sum\\limits^l_{i=1}(\\lambda_i(y_i(\\langle\\omega,x_i\\rangle - \\omega_0) - 1) \\rightarrow \\min\\limits_{\\omega,\\omega_0} \\max\\limits_{\\lambda}\\\\\n",
    "   \\lambda_i \\geq 0, \\quad i = 1,\\dots,n\\\\\n",
    "   \\lambda_i = 0, \\quad \\text{либо} \\langle\\omega,x\\rangle - \\omega_0 = y_i, \\quad i = 1,\\dots,l\n",
    " \\end{cases}\n",
    "\\end{equation*}$\n",
    "\n",
    "<br />\n",
    "<br />\n",
    "\n",
    "$\\begin{equation*}\n",
    "\\begin{cases}\n",
    "\\frac{\\partial \\mathcal{L}}{\\partial \\omega} = \\omega - \\sum\\limits^l_{i = 1}\\lambda_ix_iy_i = 0 \\quad \\quad \\Rightarrow \\omega = \\sum\\limits^l_{i = 1}\\lambda_ix_iy_i\\\\\n",
    "\\frac{\\partial \\mathcal{L}}{\\partial \\omega_0} = -\\sum\\limits^l_{i = 1}\\lambda_iy_i \\quad \\quad \\quad \\quad \\quad \\Rightarrow \\sum\\limits^l_{i = 1}\\lambda_iy_i = 0\n",
    "\\end{cases}\n",
    "\\end{equation*}$\n",
    "\n",
    "<br />\n",
    "<br />\n",
    "\n",
    "$\\begin{equation*}\n",
    "\\begin{cases}\n",
    "   -\\mathcal{L}(\\lambda) = -\\sum\\limits^l_{i=1}\\lambda_i + \\frac{1}{2}\\sum\\limits^l_{i=1}\\sum\\limits^l_{j=1}(\\lambda_i\\lambda_jy_iy_j(\\langle x_i,x_j\\rangle) \\rightarrow \\min\\limits_\\lambda\\\\\n",
    "   \\lambda_i \\geq 0, \\quad i = 1,\\dots,n\\\\\n",
    "  \\sum\\limits^l_{i = 1}\\lambda_iy_i = 0\n",
    " \\end{cases}\n",
    "\\end{equation*}$"
   ]
  },
  {
   "cell_type": "markdown",
   "metadata": {
    "slideshow": {
     "slide_type": "slide"
    }
   },
   "source": [
    "Решили задачу: вектор  $ \\omega $  вычисляется из $\\quad \\omega = \\sum\\limits^l_{i = 1}\\lambda_ix_iy_i$.\n",
    "Для определения порога $\\omega_0$ достаточно взять произвольный опорный вектор $x_i$ и выразить $\\omega_0$ из равенства $\\omega_0 =\\langle\\omega,x_i\\rangle - y_i$.\n",
    "\n",
    "На практике для повышения численной устойчивости рекомендуется брать в качестве $\\omega_0$ среднее по всем опорным векторам,\n",
    "а ещё лучше медиану:\n",
    "\n",
    "$$\\omega_0 = med\\{\\langle\\omega,x_i\\rangle - y_i: \\lambda_i > 0, i = 1,\\dots,l\\}$$\n",
    "\n",
    "В конечном счете алгоритм можно записать так:\n",
    "\n",
    "$$ a(x) = sign(\\sum\\limits^l_{i=1}\\lambda_iy_i\\langle x_i,x\\rangle - \\omega_0)$$\n"
   ]
  },
  {
   "cell_type": "markdown",
   "metadata": {
    "slideshow": {
     "slide_type": "slide"
    }
   },
   "source": [
    "#JIHTEJWIHJBMETWBN\n",
    "nwnorng943ng89 NON-SEPARABLE CASE!!!!!!!!!\n",
    "![FRIDAY!!](http://cs.pikabu.ru/images/big_size_comm/2012-12_4/13558385472510.jpg)"
   ]
  },
  {
   "cell_type": "code",
   "execution_count": null,
   "metadata": {
    "collapsed": false
   },
   "outputs": [],
   "source": []
  },
  {
   "cell_type": "markdown",
   "metadata": {
    "slideshow": {
     "slide_type": "slide"
    }
   },
   "source": [
    "![balloons](http://i.imgur.com/zDBbD.png)"
   ]
  },
  {
   "cell_type": "markdown",
   "metadata": {
    "slideshow": {
     "slide_type": "slide"
    }
   },
   "source": [
    "![balloons](http://i.imgur.com/aLZlG.png)"
   ]
  },
  {
   "cell_type": "markdown",
   "metadata": {
    "slideshow": {
     "slide_type": "slide"
    }
   },
   "source": [
    "![balloons](http://i.imgur.com/kxWgh.png)"
   ]
  },
  {
   "cell_type": "markdown",
   "metadata": {},
   "source": [
    "![balloons](http://i.imgur.com/BWYYZ.png)"
   ]
  },
  {
   "cell_type": "markdown",
   "metadata": {
    "slideshow": {
     "slide_type": "slide"
    }
   },
   "source": [
    "![balloons](http://i.imgur.com/R9967.png)"
   ]
  },
  {
   "cell_type": "markdown",
   "metadata": {},
   "source": [
    "![balloons](http://i.imgur.com/WuxyO.png)"
   ]
  },
  {
   "cell_type": "markdown",
   "metadata": {},
   "source": [
    "![balloons](http://i.imgur.com/gWdPX.png)"
   ]
  },
  {
   "cell_type": "markdown",
   "metadata": {
    "slideshow": {
     "slide_type": "slide"
    }
   },
   "source": [
    "http://www.youtube.com/watch?v=3liCbRZPrZA"
   ]
  },
  {
   "cell_type": "markdown",
   "metadata": {
    "slideshow": {
     "slide_type": "slide"
    }
   },
   "source": [
    "$\\begin{equation*}\n",
    "\\begin{cases}\n",
    "  \\frac{1}{2}\\langle\\omega,\\omega_0\\rangle + C\\sum\\limits^l_{i=1}\\xi_i \\rightarrow \\min\\limits_{\\omega,\\omega_0,\\xi}\\\\\n",
    "  y_i(\\langle\\omega,x_i\\rangle - \\omega_0) \\geq 1 - \\xi_i, \\quad i=1,\\dots,l\\\\\n",
    "  \\xi_i \\geq 0, \\quad i=1,\\dots,l\n",
    " \\end{cases}\n",
    "\\end{equation*}$\n",
    "\n",
    "<br />\n",
    "<br />\n",
    "\n",
    "$[m_i < 0] \\leq (1 - m_i)_+$ — верхняя оценка пороговой функции потерь\n",
    "\n",
    "$ \\tau ||\\omega||^2$ —      штрафное слагаемое\n",
    "\n",
    "<br />\n",
    "<br />\n",
    "\n",
    "$Q(a,X^l)=\\sum\\limits^l_{i=1}[m_i < 0] \\quad \\Rightarrow \\quad Q(a,X^l) = \\sum\\limits^l_{i=1}(1 - m_i)_+ + \\tau ||\\omega||^2 \\rightarrow \\min\\limits_{\\omega, \\omega_0}$"
   ]
  },
  {
   "cell_type": "markdown",
   "metadata": {
    "slideshow": {
     "slide_type": "slide"
    }
   },
   "source": [
    "$\\mathcal{L}(\\omega,\\omega_0,\\xi,\\lambda,\\eta) = \\frac{1}{2}\\langle\\omega,\\omega_0\\rangle - \\sum\\limits^l_{i=1}\\lambda_i(y_i(\\langle\\omega,x_i\\rangle - \\omega_0)-1) - \\sum\\limits^l_{i=1}\\xi_i(\\lambda_i+\\eta_i-C)$\n",
    "\n",
    "$\\begin{equation*}\n",
    "\\begin{cases}\n",
    "\\mathcal{L}(\\omega,\\omega_0,\\xi,\\eta,\\lambda) \\rightarrow \\min\\limits_{\\omega.\\omega_0,\\xi}\\max\\limits_{\\eta,\\lambda}\\\\\n",
    "\\xi_i \\geq 0, \\lambda_i \\geq 0, \\eta_i \\geq 0, \\quad i=1,\\dots,l\\\\\n",
    "\\lambda_i = 0, \\quad либо \\quad y_i(\\langle\\omega,x_i\\rangle - \\omega_0) = 1 - \\xi_i, \\quad i=1,\\dots,l\\\\\n",
    "\\eta_i =0, \\quad либо \\quad \\xi_i = 0, i=1,\\dots,l\n",
    " \\end{cases}\n",
    "\\end{equation*}$\n",
    "\n",
    "$\\begin{equation*}\n",
    "\\begin{cases}\n",
    "\\frac{\\partial \\mathcal{L}}{\\partial \\omega} = \\omega - \\sum\\limits^l_{i = 1}\\lambda_ix_iy_i = 0 \\quad \\quad \\Rightarrow \\omega = \\sum\\limits^l_{i = 1}\\lambda_ix_iy_i\\\\\n",
    "\\frac{\\partial \\mathcal{L}}{\\partial \\omega_0} = -\\sum\\limits^l_{i = 1}\\lambda_iy_i \\quad \\quad \\quad \\quad \\quad \\Rightarrow \\sum\\limits^l_{i = 1}\\lambda_iy_i = 0\n",
    "\\end{cases}\n",
    "\\end{equation*}$\n"
   ]
  },
  {
   "cell_type": "code",
   "execution_count": null,
   "metadata": {
    "collapsed": false,
    "slideshow": {
     "slide_type": "slide"
    }
   },
   "outputs": [],
   "source": []
  },
  {
   "cell_type": "markdown",
   "metadata": {
    "slideshow": {
     "slide_type": "slide"
    }
   },
   "source": [
    "$Q(a,X^l)=\\sum\\limits^l_{i=1}[m_i < 0] \\quad \\Rightarrow \\quad Q(a,X^l) = \\sum\\limits^l_{i=1}(1 - m_i)_+ + \\tau ||\\omega||^2 \\rightarrow \\min\\limits_{\\omega, \\omega_0}$"
   ]
  },
  {
   "cell_type": "code",
   "execution_count": null,
   "metadata": {
    "collapsed": false
   },
   "outputs": [],
   "source": []
  },
  {
   "cell_type": "markdown",
   "metadata": {
    "slideshow": {
     "slide_type": "slide"
    }
   },
   "source": [
    "#Kernel Functions\n",
    "Линейные: $\\quad \\langle x,x'\\rangle$\n",
    "\n",
    "Полиномиальные: $\\quad (\\gamma\\langle x,x'\\rangle + r)^d\\quad$ d = [degree];      r = [coef0]\n",
    "\n",
    "Radial Basis Function: $\\quad \\exp(-\\gamma |x - x'|^2)$, $\\quad \\gamma > 0$\n",
    "\n",
    "Сигмоидальная: $\\quad \\tanh(\\gamma\\langle x,x'\\rangle + r)$"
   ]
  },
  {
   "cell_type": "markdown",
   "metadata": {
    "collapsed": false,
    "slideshow": {
     "slide_type": "slide"
    }
   },
   "source": [
    "$K\\langlex,x'\\rangle=\\langle u,v\\rangle \\quad u = (u_1,u_2); \\quad v=(v_1,v_2)\n",
    "\\langlex"
   ]
  }
 ],
 "metadata": {
  "kernelspec": {
   "display_name": "Python 2",
   "language": "python",
   "name": "python2"
  },
  "language_info": {
   "codemirror_mode": {
    "name": "ipython",
    "version": 2
   },
   "file_extension": ".py",
   "mimetype": "text/x-python",
   "name": "python",
   "nbconvert_exporter": "python",
   "pygments_lexer": "ipython2",
   "version": "2.7.10"
  }
 },
 "nbformat": 4,
 "nbformat_minor": 0
}
