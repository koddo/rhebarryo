{
 "cells": [
  {
   "cell_type": "markdown",
   "metadata": {},
   "source": [
    "![linear regression, error](http://i.stack.imgur.com/cj8j6.png)\n",
    "\n",
    "$$\\mathbf w^T \\mathbf x_i \\approx y_i$$\n",
    "\n",
    "$$e_i = y_i - \\mathbf w^T \\mathbf x_i$$\n",
    "\n",
    "\n",
    "$$\\sum e_i^2 =  \\| \\mathbf e \\|^2 = \\| X \\mathbf w - \\mathbf y \\|^2$$\n",
    "\n",
    "$$\\min\\limits_{\\mathbf w} \\| X \\mathbf w - \\mathbf y \\|^2$$\n",
    "\n",
    "$$\\mathbf w = (X^T X)^{-1} X^T \\mathbf y$$\n",
    "\n",
    "$$\\hat y = \\mathbf w^T \\mathbf x$$"
   ]
  },
  {
   "cell_type": "markdown",
   "metadata": {},
   "source": [
    "## ridge regression\n",
    "\n",
    "$$\\min\\limits_{\\mathbf w} \\| X \\mathbf w - y \\|^2 + \\alpha \\, \\| \\mathbf w \\|^2$$\n",
    "\n",
    "$$\\mathbf w = (X^T X +  \\alpha \\, I )^{-1} X^T \\mathbf y = X^T \\, (X X^T + \\alpha \\, I)^{-1} \\mathbf y$$\n",
    "\n",
    "proof for statement above: http://stat.wikia.com/wiki/Kernel_Ridge_Regression\n",
    "\n",
    "$$\\hat y = \\mathbf x^T \\mathbf w = \\mathbf x^T  X^T \\, (X X^T + \\alpha \\, I)^{-1} \\mathbf y$$\n",
    "\n",
    "![alpha shrinkage](http://scikit-learn.org/stable/_images/plot_ridge_path_0011.png)\n",
    "\n",
    "\n",
    "\n",
    "\n"
   ]
  },
  {
   "cell_type": "markdown",
   "metadata": {},
   "source": [
    "## next time: lasso"
   ]
  },
  {
   "cell_type": "markdown",
   "metadata": {},
   "source": [
    "## sources\n",
    "\n",
    "http://stats.stackexchange.com/questions/92672/difference-between-primal-dual-and-kernel-ridge-regression"
   ]
  }
 ],
 "metadata": {
  "kernelspec": {
   "display_name": "Python 2",
   "language": "python",
   "name": "python2"
  },
  "language_info": {
   "codemirror_mode": {
    "name": "ipython",
    "version": 2
   },
   "file_extension": ".py",
   "mimetype": "text/x-python",
   "name": "python",
   "nbconvert_exporter": "python",
   "pygments_lexer": "ipython2",
   "version": "2.7.10"
  }
 },
 "nbformat": 4,
 "nbformat_minor": 0
}
